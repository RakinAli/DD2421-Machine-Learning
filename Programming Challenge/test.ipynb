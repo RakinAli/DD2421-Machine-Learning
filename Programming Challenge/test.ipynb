{
 "cells": [
  {
   "attachments": {},
   "cell_type": "markdown",
   "metadata": {},
   "source": [
    "# Reading the Data\n",
    "In this section, we will read the data from the csv file and store it in a pandas dataframe. Thereafter we will perform some basic data exploration to get rid of any missing values, useless columns and outliers."
   ]
  },
  {
   "cell_type": "code",
   "execution_count": 4,
   "metadata": {},
   "outputs": [],
   "source": [
    "# import all\n",
    "import pandas as pd\n",
    "import numpy as np\n",
    "import matplotlib.pyplot as plt\n",
    "import seaborn as sns\n",
    "import dtale\n",
    "import sklearn as sk\n",
    "\n",
    "\n",
    "\n",
    "# Read the data Train on me\n",
    "dataframe= pd.read_csv('Train.csv')\n"
   ]
  },
  {
   "attachments": {},
   "cell_type": "markdown",
   "metadata": {},
   "source": [
    "## Cleaning the Data\n",
    "Here I'm trying to interpret the data visually. X_5  column is zeroes regardless of the output. Also we we do know exactly how many unique values there are in each column. I'm going to try to find out how many unique values there are in each column. Also I am trying to find the dimensionality of each data \n",
    "\n",
    "### Let's start with Y and x~5"
   ]
  },
  {
   "cell_type": "code",
   "execution_count": 5,
   "metadata": {},
   "outputs": [
    {
     "data": {
      "text/plain": [
       "Dragspel       559\n",
       "Nyckelharpa    231\n",
       "Serpent        210\n",
       "Name: y, dtype: int64"
      ]
     },
     "execution_count": 5,
     "metadata": {},
     "output_type": "execute_result"
    }
   ],
   "source": [
    "# Find the dimensionality of the y variable\n",
    "dataframe['y'].value_counts()\n",
    "\n",
    "\n"
   ]
  },
  {
   "attachments": {},
   "cell_type": "markdown",
   "metadata": {},
   "source": [
    "### Cleaning the X variables\n",
    "I found that the data had some missing values. They are now fixed in the y column and x_5 column. I also found that the x_5 column was useless. It was all zeroes. I removed it from the dataframe."
   ]
  },
  {
   "cell_type": "code",
   "execution_count": 9,
   "metadata": {},
   "outputs": [
    {
     "name": "stderr",
     "output_type": "stream",
     "text": [
      "C:\\Users\\rakin\\AppData\\Local\\Packages\\PythonSoftwareFoundation.Python.3.10_qbz5n2kfra8p0\\LocalCache\\local-packages\\Python310\\site-packages\\dtale\\views.py:755: FutureWarning:\n",
      "\n",
      "['x6', 'x11', 'x12'] did not aggregate successfully. If any error is raised this will raise in a future version of pandas. Drop these columns/ops to avoid this warning.\n",
      "\n"
     ]
    },
    {
     "data": {
      "text/html": [
       "\n",
       "        <iframe\n",
       "            width=\"100%\"\n",
       "            height=\"475\"\n",
       "            src=\"http://Corona-Virus:40000/dtale/iframe/2\"\n",
       "            frameborder=\"0\"\n",
       "            allowfullscreen\n",
       "            \n",
       "        ></iframe>\n",
       "        "
      ],
      "text/plain": [
       "<IPython.lib.display.IFrame at 0x22b83911060>"
      ]
     },
     "metadata": {},
     "output_type": "display_data"
    },
    {
     "data": {
      "text/plain": []
     },
     "execution_count": 9,
     "metadata": {},
     "output_type": "execute_result"
    }
   ],
   "source": [
    "# Drop the entire x5 column\n",
    "#dataframe.drop('x5', axis=1, inplace=True)\n",
    "\n",
    "# visualize the data\n",
    "dtale.show(dataframe)\n"
   ]
  },
  {
   "cell_type": "code",
   "execution_count": 12,
   "metadata": {},
   "outputs": [
    {
     "data": {
      "text/plain": [
       "count         999\n",
       "unique        998\n",
       "top       1.29336\n",
       "freq            2\n",
       "Name: x1, dtype: object"
      ]
     },
     "execution_count": 12,
     "metadata": {},
     "output_type": "execute_result"
    }
   ],
   "source": [
    "# Checking x1 variable for outliers and missing values\n",
    "\n",
    "# How many unique values are there in x1 and non values\n",
    "dataframe['x1'].value_counts()\n",
    "dataframe['x1'].isnull().sum()\n",
    "\n",
    "# Find in column x1 where we get '?' and replace it with NaN\n",
    "dataframe['x1'].replace('?', np.nan, inplace=True)\n",
    "\n",
    "# Find the outliers\n",
    "dataframe['x1'].describe()\n"
   ]
  },
  {
   "cell_type": "code",
   "execution_count": 15,
   "metadata": {},
   "outputs": [],
   "source": [
    "# Clean X2\n",
    "dataframe['x2'].value_counts()\n",
    "dataframe['x2'].isnull().sum()\n",
    "dataframe['x2'].replace('?', np.nan, inplace=True)\n",
    "\n"
   ]
  }
 ],
 "metadata": {
  "kernelspec": {
   "display_name": "Python 3",
   "language": "python",
   "name": "python3"
  },
  "language_info": {
   "codemirror_mode": {
    "name": "ipython",
    "version": 3
   },
   "file_extension": ".py",
   "mimetype": "text/x-python",
   "name": "python",
   "nbconvert_exporter": "python",
   "pygments_lexer": "ipython3",
   "version": "3.10.10"
  },
  "orig_nbformat": 4
 },
 "nbformat": 4,
 "nbformat_minor": 2
}
